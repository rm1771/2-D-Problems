{
 "cells": [
  {
   "cell_type": "markdown",
   "metadata": {},
   "source": [
    "# Defining Variables"
   ]
  },
  {
   "cell_type": "markdown",
   "metadata": {},
   "source": [
    "## General Constants"
   ]
  },
  {
   "cell_type": "code",
   "execution_count": null,
   "metadata": {},
   "outputs": [],
   "source": [
    "%matplotlib widget\n",
    "from matplotlib.animation import FuncAnimation\n",
    "import matplotlib.pyplot as plt\n",
    "from mpl_toolkits.mplot3d import Axes3D\n",
    "G = 6.67e-11"
   ]
  },
  {
   "cell_type": "code",
   "execution_count": null,
   "metadata": {},
   "outputs": [],
   "source": [
    "m_1 = 2e30\n",
    "m_2 = 4e30\n",
    "gmm = G*m_1*m_2\n",
    "AU = 1.5e11\n",
    "daysec = 24*60*60\n",
    "dt = 0.01 * daysec\n",
    "t =0\n",
    "print(gmm)"
   ]
  },
  {
   "cell_type": "markdown",
   "metadata": {},
   "source": [
    "## Object 1 Variables"
   ]
  },
  {
   "cell_type": "code",
   "execution_count": null,
   "metadata": {},
   "outputs": [],
   "source": [
    "xlist1 = []\n",
    "ylist1= []\n",
    "zlist1= []\n",
    "x1 = 0\n",
    "y1 = 0\n",
    "z1 = 0\n",
    "# xlist1.append(x1)\n",
    "# ylist1.append(y1)\n",
    "# zlist1.append(z1)\n",
    "vx1 = 0\n",
    "vy1 = 0\n",
    "vz1 = 0\n",
    "print(xlist1)\n"
   ]
  },
  {
   "cell_type": "markdown",
   "metadata": {},
   "source": [
    "## Object 2 Variables"
   ]
  },
  {
   "cell_type": "code",
   "execution_count": null,
   "metadata": {},
   "outputs": [],
   "source": [
    "xlist2 = []\n",
    "ylist2 = []\n",
    "zlist2= []\n",
    "x2 = 1 * AU\n",
    "y2 = 0\n",
    "z2 = 0\n",
    "# xlist2.append(x2)\n",
    "# ylist2.append(y2)\n",
    "# zlist2.append(z2)\n",
    "vx2 = 0\n",
    "vy2 = 10000\n",
    "vz2 = 0\n",
    "print(xlist2)"
   ]
  },
  {
   "cell_type": "markdown",
   "metadata": {},
   "source": [
    "## Gravitational Force"
   ]
  },
  {
   "cell_type": "code",
   "execution_count": null,
   "metadata": {},
   "outputs": [],
   "source": [
    "while t < 500 * daysec:\n",
    "    rx = x2 - x1\n",
    "    ry = y2 - y1\n",
    "    rz = z2 - z1\n",
    "    absr3 = (rx**2 + ry**2+ rz**2)**1.5\n",
    "    fx = (gmm*rx)/absr3 \n",
    "    fy = (gmm*ry)/absr3\n",
    "    fz = (gmm*rz)/absr3\n",
    "    # For Body 1\n",
    "    vx1 += (fx*dt)/m_1\n",
    "    vy1 += (fy*dt)/m_1\n",
    "    vz1 += (fz*dt)/m_1\n",
    "    # For Body 2\n",
    "    vx2 -= (fx*dt)/m_2\n",
    "    vy2 -= (fy*dt)/m_2\n",
    "    vz2 -= (fz*dt)/m_2\n",
    "    # Updating the coordinates for Body 1\n",
    "    x1 += vx1*dt\n",
    "    y1 += vy1*dt\n",
    "    z1 += vz1*dt\n",
    "    # Updating the coordinates for Body 2\n",
    "    x2 += vx2*dt\n",
    "    y2 += vy2*dt\n",
    "    z2 += vz2*dt\n",
    "    # Updating time\n",
    "    t += dt\n",
    "    # Update the coordinates\n",
    "    xlist1.append(x1)\n",
    "    ylist1.append(y1)\n",
    "    zlist1.append(z1)\n",
    "    xlist2.append(x2)\n",
    "    ylist2.append(y2)\n",
    "    zlist2.append(z2)\n"
   ]
  },
  {
   "cell_type": "code",
   "execution_count": null,
   "metadata": {},
   "outputs": [],
   "source": [
    "print(xlist1)\n",
    "print(xlist2)\n",
    "plt.plot(xlist1,ylist1)\n",
    "plt.plot(xlist2,ylist2)\n",
    "plt.show()"
   ]
  },
  {
   "cell_type": "code",
   "execution_count": null,
   "metadata": {},
   "outputs": [],
   "source": [
    "fig, ax = plt.subplots()\n",
    "plt.subplots_adjust(bottom=0.25)\n",
    "\n",
    "padding = 5  # Adjust padding to your preference\n",
    "x_min = min(min(xlist1), min(xlist2)) - padding\n",
    "x_max = max(max(xlist1), max(xlist2)) + padding\n",
    "y_min = min(min(ylist1), min(ylist2)) - padding\n",
    "y_max = max(max(ylist1), max(ylist2)) + padding\n",
    "ax.set_xlim(x_min, x_max)\n",
    "ax.set_ylim(y_min, y_max)\n",
    "# Define the step size and the length of the trails\n",
    "step_size = 60  # Increase step size to speed up the animation\n",
    "\n",
    "# Scatter plots for trails\n",
    "trail1, = ax.plot([], [], 'ro', label='Body 1', markersize=3)  # Red dots for Body 1 trail\n",
    "trail2, = ax.plot([], [], 'bo', label='Body 2', markersize=3)  # Blue dots for Body 2 trail\n",
    "current1, = ax.plot([], [], 'ro',  markersize=10)  # Larger dot for current position of Body 1\n",
    "current2, = ax.plot([], [], 'bo',  markersize=10)  # Larger dot for current position of Body 2\n",
    "\n",
    "def animate(i):\n",
    "    index = i * step_size\n",
    "    # Update the trail points by adding the current point\n",
    "    xdata1 = xlist1[:index:step_size]\n",
    "    ydata1 = ylist1[:index:step_size]\n",
    "    xdata2 = xlist2[:index:step_size]\n",
    "    ydata2 = ylist2[:index:step_size]\n",
    "\n",
    "    # Set data for the trails\n",
    "    trail1.set_data(xdata1, ydata1)\n",
    "    trail2.set_data(xdata2, ydata2)\n",
    "    # Set data for the current positions\n",
    "    current1.set_data([xlist1[index]], [ylist1[index]])\n",
    "    current2.set_data([xlist2[index]], [ylist2[index]])\n",
    "    return trail1, trail2, current1, current2\n",
    "\n",
    "# Calculate total frames considering step size\n",
    "total_frames = (len(xlist1) + step_size - 1) // step_size\n",
    "\n",
    "# Creating the animation\n",
    "ani = FuncAnimation(fig, animate, frames=total_frames, interval=10, blit=True, repeat=False)\n",
    "# print(xlist1)\n",
    "plt.legend()\n",
    "plt.show()"
   ]
  },
  {
   "cell_type": "code",
   "execution_count": null,
   "metadata": {},
   "outputs": [],
   "source": [
    "fig = plt.figure()\n",
    "ax = fig.add_subplot(111, projection='3d')\n",
    "trail1, = ax.plot([], [], [], 'ro-', label='Body 1', markersize=2)  # Red line for Body 1 trail\n",
    "trail2, = ax.plot([], [], [], 'bo-', label='Body 2', markersize=2)  # Blue line for Body 2 trail\n",
    "current1, = ax.plot([], [], [], 'ro', label='Current Position 1', markersize=10)  # Larger dot for current position of Body 1\n",
    "current2, = ax.plot([], [], [], 'bo', label='Current Position 2', markersize=10)  # Larger dot for current position of Body 2\n",
    "\n",
    "# Setting the axes properties\n",
    "ax.set_xlim3d([min(xlist1+xlist2), max(xlist1+xlist2)])\n",
    "ax.set_ylim3d([min(ylist1+ylist2), max(ylist1+ylist2)])\n",
    "ax.set_zlim3d([min(zlist1+zlist2), max(zlist1+zlist2)])\n",
    "\n",
    "step_size = 95 # Controls how many frames to skip for each update to increase speed\n",
    "\n",
    "def update(num):\n",
    "    # Calculate the current index considering the step size\n",
    "    index = num * step_size\n",
    "    if index >= len(xlist1):\n",
    "        index = len(xlist1) - 1  # Ensure the index does not go out of bounds\n",
    "\n",
    "    # Trail update with step size for smoother trailing effect\n",
    "    trail1.set_data(xlist1[:index], ylist1[:index])\n",
    "    trail1.set_3d_properties(zlist1[:index])\n",
    "    trail2.set_data(xlist2[:index], ylist2[:index])\n",
    "    trail2.set_3d_properties(zlist2[:index])\n",
    "    # Current position update\n",
    "    current1.set_data([xlist1[index]], [ylist1[index]])\n",
    "    current1.set_3d_properties([zlist1[index]])\n",
    "    current2.set_data([xlist2[index]], [ylist2[index]])\n",
    "    current2.set_3d_properties([zlist2[index]])\n",
    "    return trail1, trail2, current1, current2\n",
    "\n",
    "total_frames = (len(xlist1) + step_size - 1) // step_size\n",
    "\n",
    "ani = FuncAnimation(fig, update, frames=total_frames, interval=50, blit=False)\n",
    "\n",
    "plt.legend()\n",
    "plt.show()"
   ]
  },
  {
   "cell_type": "code",
   "execution_count": null,
   "metadata": {},
   "outputs": [],
   "source": []
  }
 ],
 "metadata": {
  "kernelspec": {
   "display_name": "Python 3 (ipykernel)",
   "language": "python",
   "name": "python3"
  },
  "language_info": {
   "codemirror_mode": {
    "name": "ipython",
    "version": 3
   },
   "file_extension": ".py",
   "mimetype": "text/x-python",
   "name": "python",
   "nbconvert_exporter": "python",
   "pygments_lexer": "ipython3",
   "version": "3.11.0"
  }
 },
 "nbformat": 4,
 "nbformat_minor": 4
}
